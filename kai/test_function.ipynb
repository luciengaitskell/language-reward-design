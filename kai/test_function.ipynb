{
 "cells": [
  {
   "cell_type": "code",
   "execution_count": 1,
   "metadata": {},
   "outputs": [],
   "source": [
    "def reward_1(observation, lockedroom_color, keyroom_color, door_color):\n",
    "    import numpy as np\n",
    "\n",
    "    # Define RGB color ranges for different room colors\n",
    "    color_ranges = {\n",
    "        'red': ((200, 0, 0), (255, 50, 50)),\n",
    "        'green': ((0, 200, 0), (50, 255, 50)),\n",
    "        'blue': ((0, 0, 200), (50, 50, 255)),\n",
    "        'purple': ((128, 0, 128), (177, 50, 177)),\n",
    "        'yellow': ((200, 200, 0), (255, 255, 50)),\n",
    "        'grey': ((130, 130, 130), (180, 180, 180))\n",
    "    }\n",
    "\n",
    "    # Helper function to check if a pixel belongs to the color range\n",
    "    def in_color_range(pixel, color):\n",
    "        lower, upper = color_ranges[color]\n",
    "        return np.all(pixel >= lower) and np.all(pixel <= upper)\n",
    "\n",
    "    # Extract the image from the observation\n",
    "    image = observation['image']\n",
    "\n",
    "    # Get the color range for the keyroom\n",
    "    keyroom_color_range = color_ranges[keyroom_color]\n",
    "\n",
    "    # Find the keyroom in the image\n",
    "    keyroom_pixels = np.array([in_color_range(image[i, j], keyroom_color) for i in range(image.shape[0]) for j in range(image.shape[1])])\n",
    "    keyroom_pixels = keyroom_pixels.reshape(image.shape[0], image.shape[1])\n",
    "\n",
    "    # Calculate the center of the keyroom\n",
    "    keyroom_positions = np.argwhere(keyroom_pixels)\n",
    "    if keyroom_positions.size == 0:\n",
    "        return 0  # No keyroom detected, minimal reward\n",
    "\n",
    "    keyroom_center = np.mean(keyroom_positions, axis=0)\n",
    "\n",
    "    # Calculate distance from the agent's position at the bottom center of the image to the keyroom center\n",
    "    agent_position = np.array([image.shape[0] - 1, image.shape[1] // 2])\n",
    "    distance = np.linalg.norm(keyroom_center - agent_position)\n",
    "\n",
    "    # Normalize the distance to provide a reward between 0 and 1 (1 being the highest reward when distance is 0)\n",
    "    max_distance = np.linalg.norm(np.array([0, 0]) - np.array([image.shape[0] - 1, image.shape[1] - 1]))\n",
    "    reward = 1 - (distance / max_distance)\n",
    "\n",
    "    return reward"
   ]
  },
  {
   "cell_type": "code",
   "execution_count": null,
   "metadata": {},
   "outputs": [],
   "source": []
  }
 ],
 "metadata": {
  "kernelspec": {
   "display_name": ".venv",
   "language": "python",
   "name": "python3"
  },
  "language_info": {
   "codemirror_mode": {
    "name": "ipython",
    "version": 3
   },
   "file_extension": ".py",
   "mimetype": "text/x-python",
   "name": "python",
   "nbconvert_exporter": "python",
   "pygments_lexer": "ipython3",
   "version": "3.12.2"
  }
 },
 "nbformat": 4,
 "nbformat_minor": 2
}
