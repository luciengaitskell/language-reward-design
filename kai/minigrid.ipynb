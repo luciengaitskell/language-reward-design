{
 "cells": [
  {
   "cell_type": "markdown",
   "metadata": {},
   "source": [
    "## Import necessary modules, set up environment"
   ]
  },
  {
   "cell_type": "code",
   "execution_count": 1,
   "metadata": {},
   "outputs": [
    {
     "name": "stderr",
     "output_type": "stream",
     "text": [
      "/Users/lucg/.pyenv/versions/3.10.13/envs/6.8200/lib/python3.10/site-packages/gym/envs/registration.py:307: DeprecationWarning: The package name gym_minigrid has been deprecated in favor of minigrid. Please uninstall gym_minigrid and install minigrid with `pip install minigrid`. Future releases will be maintained under the new package name minigrid.\n",
      "  fn()\n"
     ]
    }
   ],
   "source": [
    "from tqdm import tqdm\n",
    "from matplotlib import pyplot as plt\n",
    "from gymnasium import spaces\n",
    "%matplotlib inline\n",
    "# import gymnasium as gym\n",
    "# from gym.envs.registration import registry, register\n",
    "from minigrid.wrappers import DictObservationSpaceWrapper # so that text mission string is actually a numerical dict\n",
    "\n",
    "# env = gymnasium.make(\"MiniGrid-LockedRoom-v0\", render_mode = \"rgb_array\")\n",
    "# env = DictObservationSpaceWrapper(env) # ONLY DO THIS FOR PPO TRAINING\n",
    "# env.metadata['render_modes'] = [\"rgb_array\"]\n",
    "from stable_baselines3.common.torch_layers import BaseFeaturesExtractor\n",
    "from torch import nn\n",
    "# import gym\n",
    "import torch\n",
    "import minigrid\n",
    "from minigrid.wrappers import ImgObsWrapper, RGBImgObsWrapper, RGBImgPartialObsWrapper\n",
    "from stable_baselines3 import PPO\n",
    "import gymnasium\n",
    "import cv2"
   ]
  },
  {
   "cell_type": "code",
   "execution_count": 2,
   "metadata": {},
   "outputs": [
    {
     "name": "stdout",
     "output_type": "stream",
     "text": [
      "Dict('direction': Discrete(4), 'image': Box(0, 255, (7, 7, 3), uint8), 'mission': MissionSpace(<function LockedRoomEnv._gen_mission at 0x1738e75b0>, [['blue', 'green', 'grey', 'purple', 'red', 'yellow'], ['blue', 'green', 'grey', 'purple', 'red', 'yellow'], ['blue', 'green', 'grey', 'purple', 'red', 'yellow']]))\n",
      "Dict('direction': Discrete(4), 'image': Box(0, 255, (56, 56, 3), uint8), 'mission': MissionSpace(<function LockedRoomEnv._gen_mission at 0x1738e75b0>, [['blue', 'green', 'grey', 'purple', 'red', 'yellow'], ['blue', 'green', 'grey', 'purple', 'red', 'yellow'], ['blue', 'green', 'grey', 'purple', 'red', 'yellow']]))\n"
     ]
    }
   ],
   "source": [
    "env = gymnasium.make(\"MiniGrid-LockedRoom-v0\")\n",
    "print(env.observation_space)\n",
    "env = RGBImgPartialObsWrapper(env)\n",
    "print(env.observation_space)"
   ]
  },
  {
   "cell_type": "markdown",
   "metadata": {},
   "source": [
    "## Set up the wrappers for the environment\n",
    "\n",
    "`MissionEncodingWrapper` adds one for every discrete space in the one-hot encoding of the mission, allowing 0 to be encoded as well.\n",
    "\n",
    "`ImageFeaturesExtractor` extracts relevant features if the observation is just an image, used with `ImgObsWrapper`\n",
    "\n",
    "`MinigridFeaturesExtractor` extracts relevant features from the entire observation, used with `MissionEncodingWrapper` and `DictObservationSpaceWrapper`"
   ]
  },
  {
   "cell_type": "code",
   "execution_count": 62,
   "metadata": {},
   "outputs": [],
   "source": [
    "\n",
    "from gymnasium import ObservationWrapper, RewardWrapper\n",
    "import numpy as np\n",
    "# a custom wrapper to make the mission vector work with one hot encoding\n",
    "class MissionEncodingWrapper(ObservationWrapper):\n",
    "    def __init__(self, env):\n",
    "        super().__init__(env)\n",
    "        self.observation_space = env.observation_space\n",
    "        self.observation_space['mission'] = spaces.MultiDiscrete(np.array([n+1 for n in env.observation_space['mission'].nvec]))\n",
    "    def observation(self, obs):\n",
    "        return obs\n",
    "    \n",
    "\n",
    "class RewardFunctionWrapper(RewardWrapper):\n",
    "    def __init__(self, env, compute_reward_func):\n",
    "        super().__init__(env)\n",
    "        self.curr_compute_reward = None\n",
    "        self.compute_reward_func = compute_reward_func\n",
    "    \n",
    "    def reset(self, *args, **kwargs) -> None:\n",
    "        ret = self.env.reset(*args, **kwargs)\n",
    "        self.curr_compute_reward = self.compute_reward_func()\n",
    "        return ret\n",
    "\n",
    "    def get_reward(self, obs):\n",
    "        return self.curr_compute_reward(obs)\n",
    "    \n",
    "    def step(self, action):\n",
    "        obs, _, terminated, truncated, info = self.env.step(action)\n",
    "        reward = self.curr_compute_reward(obs)\n",
    "        return obs, reward, terminated, truncated, info\n",
    "\n"
   ]
  },
  {
   "cell_type": "code",
   "execution_count": 4,
   "metadata": {},
   "outputs": [],
   "source": [
    "class ImageFeaturesExtractor(BaseFeaturesExtractor):\n",
    "    def __init__(self, observation_space: gymnasium.Space, features_dim: int = 512, normalized_image: bool = False) -> None:\n",
    "        super().__init__(observation_space, features_dim)\n",
    "        n_input_channels = observation_space.shape[0]\n",
    "        self.cnn = nn.Sequential(\n",
    "            nn.Conv2d(n_input_channels, 16, (2, 2)),\n",
    "            nn.ReLU(),\n",
    "            nn.Conv2d(16, 32, (2, 2)),\n",
    "            nn.ReLU(),\n",
    "            nn.Conv2d(32, 64, (2, 2)),\n",
    "            nn.ReLU(),\n",
    "            nn.Flatten(),\n",
    "        )\n",
    "\n",
    "        # Compute shape by doing one forward pass\n",
    "        with torch.no_grad():\n",
    "            n_flatten = self.cnn(torch.as_tensor(observation_space.sample()[None]).float()).shape[1]\n",
    "\n",
    "        self.linear = nn.Sequential(nn.Linear(n_flatten, features_dim), nn.ReLU())\n",
    "\n",
    "    def forward(self, observations: torch.Tensor) -> torch.Tensor:\n",
    "        return self.linear(self.cnn(observations))"
   ]
  },
  {
   "cell_type": "code",
   "execution_count": 5,
   "metadata": {},
   "outputs": [],
   "source": [
    "class MinigridFeaturesExtractor(BaseFeaturesExtractor):\n",
    "    def __init__(self, observation_space: spaces.Dict, features_dim: int = 512, normalized_image: bool = False) -> None:\n",
    "        super().__init__(observation_space, features_dim)\n",
    "        direction = observation_space['direction']\n",
    "        image = observation_space['image']\n",
    "        mission_string = observation_space['mission']\n",
    "        n_input_channels = image.shape[0] # should be 3, for RGB\n",
    "        \n",
    "        \n",
    "        self.cnn = nn.Sequential(\n",
    "            nn.Conv2d(n_input_channels, 16, (2, 2)),\n",
    "            nn.ReLU(),\n",
    "            nn.Conv2d(16, 32, (2, 2)),\n",
    "            nn.ReLU(),\n",
    "            nn.Conv2d(32, 64, (2, 2)),\n",
    "            nn.ReLU(),\n",
    "            nn.Flatten(),\n",
    "        )\n",
    "        \n",
    "        direction_output_dim = 8\n",
    "        self.direction_net = nn.Sequential(nn.Linear(direction.n, direction_output_dim), nn.ReLU()) \n",
    "        \n",
    "        \n",
    "        ## add text extractor\n",
    "        self.transformer = nn.Transformer(d_model=len(mission_string), nhead=2, num_encoder_layers=2, num_decoder_layers=2) # squared because of one hot encoding\n",
    "        \n",
    "\n",
    "        # Compute shape by doing one forward pass\n",
    "        with torch.no_grad():\n",
    "            n_flatten = self.cnn(torch.as_tensor(observation_space['image'].sample()[None]).float()).shape[1] ## 1024 for this example\n",
    "            \n",
    "        self.sentence_transformer_dim = len(mission_string) # is one-hot best here? or should we condense it to 50D vector?\n",
    "            \n",
    "        linear_input_dim = n_flatten + self.sentence_transformer_dim + direction_output_dim\n",
    "        self.linear = nn.Sequential(nn.Linear(linear_input_dim, features_dim), nn.ReLU())\n",
    "\n",
    "    def forward(self, observations: torch.Tensor) -> torch.Tensor:\n",
    "        image_features = self.cnn(observations['image']) # .transpose((2, 0, 1)\n",
    "        direction_features = self.direction_net(observations['direction'])\n",
    "        if direction_features.shape[1] == 1:\n",
    "            direction_features = direction_features.squeeze(1)\n",
    "            \n",
    "       \n",
    "        one_hot_mission = observations['mission'].squeeze(0)\n",
    "       \n",
    "        mission_string_encoding = torch.empty((observations['mission'].shape[0], self.sentence_transformer_dim))\n",
    "        \n",
    "        # turn back into labels instead of one hot encoding\n",
    "        for i in range(0, self.sentence_transformer_dim**2, self.sentence_transformer_dim):\n",
    "\n",
    "            if len(one_hot_mission.size()) == 1:\n",
    "                mission_string_encoding[:, i//self.sentence_transformer_dim] = (torch.argmax(one_hot_mission[i:i+self.sentence_transformer_dim], dim = 0))\n",
    "            else:\n",
    "                mission_string_encoding[:, i//self.sentence_transformer_dim] = torch.argmax(one_hot_mission[:, i:i+self.sentence_transformer_dim], dim = 1)\n",
    "       \n",
    "        src = trg = torch.as_tensor(mission_string_encoding).unsqueeze(0).float()\n",
    "        \n",
    "        sentence_features = self.transformer(src, trg).squeeze(0) # to match dimensions\n",
    "\n",
    "        \n",
    "        try:\n",
    "            observations = torch.cat([image_features, sentence_features, direction_features], dim = 1)\n",
    "        except Exception as err:\n",
    "            print(err)\n",
    "            print(\"image features dim\", image_features.shape)\n",
    "            print(\"sentence features dim\", sentence_features.shape)\n",
    "            print(\"direction features dim\", direction_features.shape)\n",
    "        return self.linear(observations)"
   ]
  },
  {
   "cell_type": "markdown",
   "metadata": {},
   "source": [
    "### Train the model and save it. -- also try `FlatObsWrapper`"
   ]
  },
  {
   "cell_type": "code",
   "execution_count": 6,
   "metadata": {},
   "outputs": [
    {
     "name": "stdout",
     "output_type": "stream",
     "text": [
      "Dict('direction': Discrete(4), 'image': Box(0, 255, (152, 152, 3), uint8), 'mission': MissionSpace(<function LockedRoomEnv._gen_mission at 0x1738e75b0>, [['blue', 'green', 'grey', 'purple', 'red', 'yellow'], ['blue', 'green', 'grey', 'purple', 'red', 'yellow'], ['blue', 'green', 'grey', 'purple', 'red', 'yellow']]))\n"
     ]
    },
    {
     "name": "stderr",
     "output_type": "stream",
     "text": [
      "/Users/lucg/.pyenv/versions/3.10.13/envs/6.8200/lib/python3.10/site-packages/gymnasium/core.py:311: UserWarning: \u001b[33mWARN: env.width to get variables from other wrappers is deprecated and will be removed in v1.0, to get this variable you can do `env.unwrapped.width` for environment variables or `env.get_wrapper_attr('width')` that will search the reminding wrappers.\u001b[0m\n",
      "  logger.warn(\n",
      "/Users/lucg/.pyenv/versions/3.10.13/envs/6.8200/lib/python3.10/site-packages/gymnasium/core.py:311: UserWarning: \u001b[33mWARN: env.height to get variables from other wrappers is deprecated and will be removed in v1.0, to get this variable you can do `env.unwrapped.height` for environment variables or `env.get_wrapper_attr('height')` that will search the reminding wrappers.\u001b[0m\n",
      "  logger.warn(\n",
      "/Users/lucg/.pyenv/versions/3.10.13/envs/6.8200/lib/python3.10/site-packages/gymnasium/core.py:311: UserWarning: \u001b[33mWARN: env.get_frame to get variables from other wrappers is deprecated and will be removed in v1.0, to get this variable you can do `env.unwrapped.get_frame` for environment variables or `env.get_wrapper_attr('get_frame')` that will search the reminding wrappers.\u001b[0m\n",
      "  logger.warn(\n"
     ]
    },
    {
     "name": "stdout",
     "output_type": "stream",
     "text": [
      "(608, 608, 3)\n"
     ]
    },
    {
     "data": {
      "text/plain": [
       "<matplotlib.image.AxesImage at 0x1738db790>"
      ]
     },
     "execution_count": 6,
     "metadata": {},
     "output_type": "execute_result"
    },
    {
     "data": {
      "image/png": "[encoded data removed]",
      "text/plain": [
       "<Figure size 640x480 with 1 Axes>"
      ]
     },
     "metadata": {},
     "output_type": "display_data"
    }
   ],
   "source": [
    "env = gymnasium.make(\"MiniGrid-LockedRoom-v0\", render_mode=\"rgb_array\")\n",
    "# env = DictObservationSpaceWrapper(env)\n",
    "# env = MissionEncodingWrapper(env)\n",
    "env = RGBImgObsWrapper(env)\n",
    "\n",
    "print(env.observation_space)\n",
    "env.reset()\n",
    "r = env.render()\n",
    "print(r.shape)\n",
    "plt.imshow(r)"
   ]
  },
  {
   "cell_type": "code",
   "execution_count": 7,
   "metadata": {},
   "outputs": [],
   "source": [
    "class Actions:\n",
    "    LEFT = 0\n",
    "    RIGHT = 1\n",
    "    FORWARD = 2\n",
    "    PICKUP = 3\n",
    "    DROP = 4\n",
    "    TOGGLE = 5\n",
    "    DONE = 6"
   ]
  },
  {
   "cell_type": "markdown",
   "metadata": {},
   "source": [
    "DIRECTION:\n",
    "Up: 3\n",
    "Left: 2\n",
    "Down: 1\n",
    "Right: 0"
   ]
  },
  {
   "cell_type": "markdown",
   "metadata": {},
   "source": [
    "### Record Video of the trained policy"
   ]
  },
  {
   "cell_type": "markdown",
   "metadata": {},
   "source": [
    "## How to render image\n",
    "\n",
    "-- good for passing into GPT4 VLM"
   ]
  },
  {
   "cell_type": "code",
   "execution_count": 8,
   "metadata": {},
   "outputs": [
    {
     "data": {
      "image/png": "[encoded data removed]",
      "text/plain": [
       "<Figure size 1200x500 with 1 Axes>"
      ]
     },
     "metadata": {},
     "output_type": "display_data"
    }
   ],
   "source": [
    "env.reset()\n",
    "render = env.render()\n",
    "fig, ax = plt.subplots(ncols=1, figsize=(12, 5))\n",
    "ax.imshow(render) # , cmap=plt.get_cmap('gray')\n",
    "plt.show()"
   ]
  },
  {
   "cell_type": "markdown",
   "metadata": {},
   "source": [
    "## Custom Reward Function"
   ]
  },
  {
   "cell_type": "code",
   "execution_count": 9,
   "metadata": {},
   "outputs": [],
   "source": [
    "from openai import OpenAI\n",
    "from api.settings import Settings\n",
    "\n",
    "openai_client = OpenAI(api_key=Settings().openai_key)\n",
    "\n",
    "def vision(prompt_text: str, img_base64: str):\n",
    "    \"\"\"Run a GPT-4 vision model on the prompt text and image.\n",
    "\n",
    "    ```\n",
    "    from PIL import Image\n",
    "    im = Image.fromarray(r)\n",
    "    vision(\"what do you see?\", image_to_base64(im))\n",
    "    ```\n",
    "    \"\"\"\n",
    "    gpt_model = \"gpt-4-turbo\"\n",
    "\n",
    "    messages = [\n",
    "        {\n",
    "            \"role\": \"user\",\n",
    "            \"content\": [\n",
    "                {\"type\": \"text\", \"text\": prompt_text},\n",
    "                {\n",
    "                    \"type\": \"image_url\",\n",
    "                    \"image_url\": {\n",
    "                        \"url\": f\"data:image/jpeg;base64,{img_base64}\",\n",
    "                        \"detail\": \"low\"\n",
    "                    },\n",
    "                },\n",
    "            ],\n",
    "        }\n",
    "    ]\n",
    "\n",
    "    response = openai_client.chat.completions.create(\n",
    "        model=gpt_model,\n",
    "        messages=messages,\n",
    "        temperature=0.2,\n",
    "        max_tokens=600,\n",
    "    )\n",
    "    return response\n",
    "\n",
    "\n",
    "def complete(prompt_text: str):\n",
    "    \"\"\"Run a GPT-4 model on the prompt text.\"\"\"\n",
    "    gpt_model = \"gpt-4-turbo\"\n",
    "\n",
    "    messages = [\n",
    "        {\n",
    "            \"role\": \"user\",\n",
    "            \"content\": [\n",
    "                {\"type\": \"text\", \"text\": prompt_text},\n",
    "            ],\n",
    "        }\n",
    "    ]\n",
    "\n",
    "    response = openai_client.chat.completions.create(\n",
    "        model=gpt_model,\n",
    "        messages=messages,\n",
    "        temperature=0.2,\n",
    "        max_tokens=300,\n",
    "    )\n",
    "    return response\n",
    "\n",
    "\n",
    "def complete(prompt_text: str):\n",
    "    \"\"\"Run a GPT-4 model on the prompt text.\"\"\"\n",
    "    gpt_model = \"gpt-4-turbo\"\n",
    "\n",
    "    messages = [\n",
    "        {\n",
    "            \"role\": \"user\",\n",
    "            \"content\": [\n",
    "                {\"type\": \"text\", \"text\": prompt_text},\n",
    "            ],\n",
    "        }\n",
    "    ]\n",
    "\n",
    "    response = openai_client.chat.completions.create(\n",
    "        model=gpt_model,\n",
    "        messages=messages,\n",
    "        temperature=0.2,\n",
    "        max_tokens=800,\n",
    "    )\n",
    "    return response\n",
    "\n"
   ]
  },
  {
   "cell_type": "markdown",
   "metadata": {},
   "source": [
    "## Custom Reward"
   ]
  },
  {
   "cell_type": "code",
   "execution_count": 10,
   "metadata": {},
   "outputs": [],
   "source": [
    "# custom_parking_env.py\n",
    "from typing import Callable, List\n",
    "\n",
    "from gymnasium.envs.registration import register\n",
    "from minigrid.envs.lockedroom import LockedRoomEnv\n",
    "\n",
    "from gymnasium import spaces\n",
    "\n",
    "import numpy as np\n",
    "\n",
    "\n",
    "class CustomMinigridEnv(LockedRoomEnv):\n",
    "    def __init__(\n",
    "        self,\n",
    "        *args,\n",
    "        compute_reward: Callable[[\"CustomMinigridEnv\", spaces.Dict], float],\n",
    "        **kwargs\n",
    "    ):  \n",
    "        self.compute_reward_func = compute_reward\n",
    "        super().__init__(*args, **kwargs)\n",
    "        \n",
    "    # this function is useless\n",
    "    \n",
    "    # def _reward(self) -> float:\n",
    "    #     return self.compute_reward_func(current_state)\n",
    "    \n",
    "    def get_reward(self, obs):\n",
    "        return self.compute_reward_func(obs)\n",
    "    \n",
    "    def step(self, action):\n",
    "        obs, _, terminated, truncated, info = super().step(action)\n",
    "        print(\"obs inside:\", obs)\n",
    "        reward = self.compute_reward_func(obs)\n",
    "        return obs, reward, terminated, truncated, info\n",
    "\n",
    "register( id=\"CustomLockedRoom-v0\", entry_point=CustomMinigridEnv)"
   ]
  },
  {
   "cell_type": "code",
   "execution_count": 11,
   "metadata": {},
   "outputs": [
    {
     "data": {
      "text/plain": [
       "'get the grey key from the yellow room, unlock the grey door and go to the goal'"
      ]
     },
     "execution_count": 11,
     "metadata": {},
     "output_type": "execute_result"
    }
   ],
   "source": [
    "image_env = gymnasium.make(\"MiniGrid-LockedRoom-v0\", render_mode=\"rgb_array\") # filler env to get the render with filler reward\n",
    "# purposely have alias so that I can change it later\n",
    "ob, info = image_env.reset()\n",
    "render = image_env.render()\n",
    "ob['mission']"
   ]
  },
  {
   "cell_type": "code",
   "execution_count": 12,
   "metadata": {},
   "outputs": [
    {
     "data": {
      "text/plain": [
       "'get the purple key from the blue room, unlock the purple door and go to the goal'"
      ]
     },
     "execution_count": 12,
     "metadata": {},
     "output_type": "execute_result"
    },
    {
     "data": {
      "image/png": "[encoded data removed]",
      "text/plain": [
       "<Figure size 640x480 with 1 Axes>"
      ]
     },
     "metadata": {},
     "output_type": "display_data"
    }
   ],
   "source": [
    "ob, info = image_env.reset()\n",
    "render = image_env.render()\n",
    "plt.imshow(render)\n",
    "ob['mission']"
   ]
  },
  {
   "cell_type": "code",
   "execution_count": 13,
   "metadata": {},
   "outputs": [],
   "source": [
    "class WithoutMissionExtractor(BaseFeaturesExtractor):\n",
    "    def __init__(self, observation_space: spaces.Dict, features_dim: int = 512, normalized_image: bool = False) -> None:\n",
    "        super().__init__(observation_space, features_dim)\n",
    "\n",
    "\n",
    "    def forward(self, observations: torch.Tensor) -> torch.Tensor:\n",
    "        return { 'image': observations['image'], 'direction': observations['direction'] }"
   ]
  },
  {
   "cell_type": "code",
   "execution_count": 48,
   "metadata": {},
   "outputs": [],
   "source": [
    "prompt1 = '''You are an assistant aiding with subgoal generataion for reinforcement learning problems. Specifically, you will\n",
    "be given an example environment picture and a textual goal description, and you are to output language subgoals that the agent\n",
    "should achieve in order to efficiently and successfully achieve the main goal.\n",
    "\n",
    "The goal description is:\n",
    "\n",
    "“get the {lockedroom_color} key from the {keyroom_color} room, unlock the {door_color} door and go to the goal”\n",
    "\n",
    "where you can use {lockedroom_color}, {keyroom_color}, and {door_color} as variables in the subgoals and the goal is a light green square.\n",
    "The variables can be the values “red”, “green”, “blue”, “purple”, “yellow” or “grey”.\n",
    "\n",
    "These subgoals should be with respect to the image itself:\n",
    "they should specify specific observations that show that the agent is on track. Output a list of ONLY these text subgoals in the following format (without any introduction text):\n",
    "\n",
    "- [subgoal 1]\n",
    "- [subgoal 2]\n",
    "- ...\n",
    "\n",
    "where [subgoal i] is replaced by the ith subgoal. You should output 5 (five) subgoals Do not create directional subgoals but rather strategic\n",
    "subgoals that do not hard code the direction but instead tell the agent which states are more beneficial.\n",
    "\n",
    "Keep in mind that the included image is an example of the environment but the door, key, and goal locations may differ so use it for context but do not\n",
    "hardcode the goals with respect to this specific image.\n",
    "'''\n",
    "\n",
    "prompt2 = '''\n",
    "You are an assistant tasked with turning language subgoals into machine readable code. You will be given text subgoals, and you must translate\n",
    "these subgoals into code that takes in an observation of the format\n",
    "\n",
    "{'direction': Discrete(4), 'image': np.ndarray, 'mission': str}\n",
    "\n",
    "where image is of shape (152x152x3), and the final dimension corresponds to RGB colors.\n",
    "Each 152x152 array corresponds to the entire area of the environment, with the agent represented as a red triangle.\n",
    "The agent can be oriented in 4 directions: 0 (right), 1 (down), 2 (left), 3 (up) and placed anywhere within this region.\n",
    "\n",
    "The text subgoals will include variables {lockedroom_color}, {keyroom_color}, and {door_color}, which can take values \n",
    "“red”, “green”, “blue”, “purple”, “yellow” or “grey”. These colors may not be precise; make sure to account for some error here.\n",
    "I suggest comparing the colors as normalized RGB vectors to prevent brightness from affecting the comparison.\n",
    "The 'mission' key in observation is of form.\n",
    "\n",
    "\n",
    "\n",
    "“get the {lockedroom_color} key from the {keyroom_color} room, unlock the {door_color} door and go to the goal”\n",
    "\n",
    "As part of your reward function, you can use these three variables {lockedroom_color}, {keyroom_color}, and {door_color}\n",
    "to determine your specific reward function for the sub goal.\n",
    "\n",
    "The reward function must have parameters: {observation, lockedroom_color, keyroom_color, door_color}.\n",
    "\n",
    "\n",
    "Output the subgoal as a python function that takes in the above parameters and returns the reward that prioritizes the specific subgoal.\n",
    "This reward function should be dense; it should make the agent want to move closer to the specific subgoal. Have the maximum reward of the function be 1 (where the goal is obtained) and the minimum be 0.\n",
    "You can do this by locating the subgoal in the image observation and using a distance metric from the agent to this subgoal location to output a reward based on just that subgoal.\n",
    "The code should be the only thing you output, all in one python function without sub functions. Name each function `reward_i` where i is ''' # add i\n",
    "\n",
    "## Please also insert a couple print statements in each reward functions to show them in action."
   ]
  },
  {
   "cell_type": "code",
   "execution_count": 49,
   "metadata": {},
   "outputs": [],
   "source": [
    "from PIL import Image\n",
    "from api.image import image_to_base64\n",
    "\n",
    "im = Image.fromarray(render)\n",
    "completion1 = vision(prompt1, image_to_base64(im))"
   ]
  },
  {
   "cell_type": "code",
   "execution_count": 50,
   "metadata": {},
   "outputs": [
    {
     "name": "stdout",
     "output_type": "stream",
     "text": [
      "- Locate the {keyroom_color} room where the {lockedroom_color} key is located.\n",
      "- Acquire the {lockedroom_color} key from the {keyroom_color} room.\n",
      "- Navigate to the {door_color} door that requires the {lockedroom_color} key.\n",
      "- Unlock the {door_color} door using the {lockedroom_color} key.\n",
      "- Proceed to the goal area marked by the light green square.\n"
     ]
    }
   ],
   "source": [
    "print(completion1.choices[0].message.content)"
   ]
  },
  {
   "cell_type": "code",
   "execution_count": 51,
   "metadata": {},
   "outputs": [
    {
     "name": "stderr",
     "output_type": "stream",
     "text": [
      "100%|██████████| 5/5 [02:05<00:00, 25.07s/it]\n"
     ]
    }
   ],
   "source": [
    "im = Image.fromarray(render)\n",
    "completions = []\n",
    "for i, sg in enumerate(tqdm(completion1.choices[0].message.content.splitlines())):\n",
    "    completions.append(complete(prompt2 + str(i) + '\\nThe textual subgoal is as follows: ' + sg))"
   ]
  },
  {
   "cell_type": "code",
   "execution_count": 52,
   "metadata": {},
   "outputs": [],
   "source": [
    "completion_funcs = [c.choices[0].message.content for c in completions]\n",
    "completion_funcs_execute = ['\\n'.join(c.splitlines()[1:-1]) for c in completion_funcs]\n",
    "for c in completion_funcs_execute:\n",
    "    # print(c)\n",
    "    exec(c)"
   ]
  },
  {
   "cell_type": "code",
   "execution_count": 53,
   "metadata": {},
   "outputs": [],
   "source": [
    "def mission_to_string(mission_encoding):\n",
    "    indices = [idx - 1 for idx in mission_encoding] # remove offset\n",
    "    translation = {v: k for k, v in DictObservationSpaceWrapper.get_minigrid_words().items()}\n",
    "    translation[-1] = ''\n",
    "    return ' '.join([translation[idx] for idx in indices])\n",
    "    "
   ]
  },
  {
   "cell_type": "code",
   "execution_count": 68,
   "metadata": {},
   "outputs": [
    {
     "name": "stdout",
     "output_type": "stream",
     "text": [
      "[\"def reward_0(observation, lockedroom_color, keyroom_color, door_color):\\n    import numpy as np\\n    \\n    # Define color mappings in normalized RGB\\n    color_map = {\\n        'red': np.array([1, 0, 0]),\\n        'green': np.array([0, 1, 0]),\\n        'blue': np.array([0, 0, 1]),\\n        'purple': np.array([0.5, 0, 0.5]),\\n        'yellow': np.array([1, 1, 0]),\\n        'grey': np.array([0.5, 0.5, 0.5])\\n    }\\n    \\n    # Normalize the image array\\n    image = observation['image'].astype(np.float32) / 255.0\\n    target_color = color_map[keyroom_color]\\n    \\n    # Calculate the mean squared error between each pixel and the target color\\n    mse = np.sum((image - target_color) ** 2, axis=2)\\n    \\n    # Find the coordinates of the minimum MSE\\n    target_coords = np.unravel_index(np.argmin(mse), mse.shape)\\n    \\n    # Assume the agent's position is at the center of the image (as a simplification)\\n    agent_position = (76, 76)  # Center of a 152x152 image\\n    \\n    # Calculate the Euclidean distance from the agent to the target\\n    distance = np.sqrt((target_coords[0] - agent_position[0]) ** 2 + (target_coords[1] - agent_position[1]) ** 2)\\n    \\n    # Normalize the distance to be between 0 and 1, where 0 is the farthest possible distance (corner to corner)\\n    max_distance = np.sqrt(2 * 76**2)\\n    normalized_distance = distance / max_distance\\n    \\n    # Reward is inversely proportional to the normalized distance\\n    reward = 1 - normalized_distance\\n    \\n    return reward\", \"def reward_1(observation, lockedroom_color, keyroom_color, door_color):\\n    import numpy as np\\n    \\n    # Define color mapping in normalized RGB\\n    color_map = {\\n        'red': np.array([255, 0, 0]),\\n        'green': np.array([0, 255, 0]),\\n        'blue': np.array([0, 0, 255]),\\n        'purple': np.array([128, 0, 128]),\\n        'yellow': np.array([255, 255, 0]),\\n        'grey': np.array([128, 128, 128])\\n    }\\n    \\n    # Normalize the RGB values to unit vectors\\n    for key in color_map:\\n        color_map[key] = color_map[key] / np.linalg.norm(color_map[key])\\n    \\n    # Extract the image and mission from observation\\n    image = observation['image']\\n    mission = observation['mission']\\n    \\n    # Extract the keyroom color from the mission\\n    keyroom_color_rgb = color_map[keyroom_color]\\n    \\n    # Find the center of the keyroom by averaging the positions of pixels that match the keyroom color\\n    # We use a threshold to determine color matching\\n    threshold = 0.9\\n    keyroom_positions = []\\n    \\n    for i in range(image.shape[0]):\\n        for j in range(image.shape[1]):\\n            pixel = image[i, j]\\n            pixel_norm = pixel / np.linalg.norm(pixel)\\n            similarity = np.dot(pixel_norm, keyroom_color_rgb)\\n            if similarity > threshold:\\n                keyroom_positions.append((i, j))\\n    \\n    if not keyroom_positions:\\n        return 0  # No matching keyroom found, minimal reward\\n    \\n    # Calculate the centroid of the keyroom\\n    keyroom_centroid = np.mean(keyroom_positions, axis=0)\\n    \\n    # Find the agent's position (agent is a red triangle)\\n    agent_color = np.array([255, 0, 0]) / np.linalg.norm([255, 0, 0])\\n    agent_positions = []\\n    \\n    for i in range(image.shape[0]):\\n        for j in range(image.shape[1]):\\n            pixel = image[i, j]\\n            pixel_norm = pixel / np.linalg.norm(pixel)\\n            similarity = np.dot(pixel_norm, agent_color)\\n            if similarity > threshold:\\n                agent_positions.append((i, j))\\n    \\n    if not agent_positions:\\n        return 0  # No agent found, minimal reward\\n    \\n    # Calculate the centroid of the agent's position\\n    agent_centroid = np.mean(agent_positions, axis=0)\\n    \\n    # Compute the Euclidean distance from the agent to the keyroom\\n    distance = np.linalg.norm(agent_centroid - keyroom_centroid)\\n    \\n    # Normalize the distance to a reward (closer is better, maximum distance is the diagonal of the image)\\n    max_distance = np.linalg.norm([152, 152])\\n    reward = 1 - (distance / max_distance)\\n    \\n    return reward\", \"def reward_2(observation, lockedroom_color, keyroom_color, door_color):\\n    import numpy as np\\n\\n    # Define color dictionary with RGB values\\n    color_dict = {\\n        'red': np.array([255, 0, 0]),\\n        'green': np.array([0, 255, 0]),\\n        'blue': np.array([0, 0, 255]),\\n        'purple': np.array([128, 0, 128]),\\n        'yellow': np.array([255, 255, 0]),\\n        'grey': np.array([128, 128, 128])\\n    }\\n\\n    # Normalize the RGB vectors to unit vectors for comparison\\n    for color in color_dict:\\n        color_dict[color] = color_dict[color] / np.linalg.norm(color_dict[color])\\n\\n    # Extract the image and direction from the observation\\n    image = observation['image']\\n    direction = observation['direction']\\n\\n    # Convert image to float and normalize\\n    image_float = image.astype(np.float32)\\n    norms = np.linalg.norm(image_float, axis=2, keepdims=True)\\n    norms[norms == 0] = 1  # to avoid division by zero\\n    image_normalized = image_float / norms\\n\\n    # Target door color normalized\\n    target_color = color_dict[door_color]\\n\\n    # Find the pixels in the image that match the door color\\n    matches = (np.abs(image_normalized - target_color) < 0.1).all(axis=2)\\n\\n    # Check if there are any matches\\n    if not matches.any():\\n        return 0.0  # No door found\\n\\n    # Find the center of the door\\n    door_positions = np.argwhere(matches)\\n    door_center = np.mean(door_positions, axis=0)\\n\\n    # Find the position of the agent (triangle tip based on direction)\\n    agent_position = np.array([76, 76])  # Assuming the agent is centered\\n    if direction == 0:  # right\\n        agent_position += [0, 10]\\n    elif direction == 1:  # down\\n        agent_position += [10, 0]\\n    elif direction == 2:  # left\\n        agent_position -= [0, 10]\\n    elif direction == 3:  # up\\n        agent_position -= [10, 0]\\n\\n    # Calculate the Euclidean distance from the agent to the door\\n    distance = np.linalg.norm(door_center - agent_position)\\n\\n    # Normalize the distance to a reward (closer has higher reward, max distance approx diagonal of image)\\n    max_distance = np.linalg.norm([152, 152])\\n    reward = max(0, 1 - (distance / max_distance))\\n\\n    return reward\", \"def reward_3(observation, lockedroom_color, keyroom_color, door_color):\\n    import numpy as np\\n    \\n    # Define color dictionary with RGB values normalized\\n    color_dict = {\\n        'red': np.array([255, 0, 0]),\\n        'green': np.array([0, 255, 0]),\\n        'blue': np.array([0, 0, 255]),\\n        'purple': np.array([128, 0, 128]),\\n        'yellow': np.array([255, 255, 0]),\\n        'grey': np.array([128, 128, 128])\\n    }\\n    \\n    # Normalize the RGB values to unit vectors\\n    for key in color_dict:\\n        color_dict[key] = color_dict[key] / np.linalg.norm(color_dict[key])\\n    \\n    # Extract the image from the observation\\n    image = observation['image']\\n    \\n    # Convert image to float and normalize\\n    image = image.astype(np.float32)\\n    norms = np.linalg.norm(image, axis=2, keepdims=True)\\n    norms[norms == 0] = 1  # To avoid division by zero\\n    image_normalized = image / norms\\n    \\n    # Define target color for the door and key\\n    door_color_rgb = color_dict[door_color]\\n    lockedroom_color_rgb = color_dict[lockedroom_color]\\n    \\n    # Calculate the Euclidean distance for each pixel to the target colors\\n    door_distance = np.linalg.norm(image_normalized - door_color_rgb, axis=2)\\n    key_distance = np.linalg.norm(image_normalized - lockedroom_color_rgb, axis=2)\\n    \\n    # Find the pixel coordinates with the minimum distance to the target colors\\n    door_location = np.unravel_index(np.argmin(door_distance), door_distance.shape)\\n    key_location = np.unravel_index(np.argmin(key_distance), key_distance.shape)\\n    \\n    # Agent's location (assumed to be the center of the image)\\n    agent_location = (76, 76)  # Center of a 152x152 image\\n    \\n    # Calculate Euclidean distances from the agent to the key and door\\n    distance_to_key = np.sqrt((agent_location[0] - key_location[0])**2 + (agent_location[1] - key_location[1])**2)\\n    distance_to_door = np.sqrt((agent_location[0] - door_location[0])**2 + (agent_location[1] - door_location[1])**2)\\n    \\n    # Normalize distances by the maximum possible distance in the image\\n    max_distance = np.sqrt(2 * (76**2))\\n    normalized_distance_to_key = distance_to_key / max_distance\\n    normalized_distance_to_door = distance_to_door / max_distance\\n    \\n    # Reward function based on the distance to the key and door\\n    # Assuming the agent first needs to get the key and then unlock the door\\n    if normalized_distance_to_key > 0.1:\\n        # Prioritize getting the key\\n        reward = 1 - normalized_distance_to_key\\n    else:\\n        # Once key is obtained, prioritize unlocking the door\\n        reward = 1 - normalized_distance_to_door\\n    \\n    return reward\", \"def reward_4(observation, lockedroom_color, keyroom_color, door_color):\\n    import numpy as np\\n    \\n    # Define the color for the goal area as mentioned in the subgoal\\n    goal_color_rgb = np.array([144, 238, 144]) / 255.0  # Light green in RGB, normalized\\n    \\n    # Extract the image and the agent's direction from the observation\\n    image = observation['image']\\n    \\n    # Normalize the image RGB values\\n    normalized_image = image / 255.0\\n    \\n    # Compute the Euclidean distance of each pixel in the image to the goal color\\n    distance_to_goal_color = np.linalg.norm(normalized_image - goal_color_rgb, axis=2)\\n    \\n    # Find the pixel coordinates that are closest to the goal color\\n    goal_positions = np.where(distance_to_goal_color < 0.1)\\n    \\n    if len(goal_positions[0]) == 0:\\n        # If no goal area is detected, return a reward of 0\\n        return 0\\n    \\n    # Calculate the center of the goal area\\n    goal_center = np.array([np.mean(goal_positions[0]), np.mean(goal_positions[1])])\\n    \\n    # Locate the agent's position (assuming the agent is represented as a red triangle)\\n    # We look for a strong red component, low green and blue components\\n    agent_mask = (image[:, :, 0] > 200) & (image[:, :, 1] < 50) & (image[:, :, 2] < 50)\\n    agent_positions = np.where(agent_mask)\\n    \\n    if len(agent_positions[0]) == 0:\\n        # If no agent is detected, return a reward of 0\\n        return 0\\n    \\n    # Calculate the center of the agent's position\\n    agent_center = np.array([np.mean(agent_positions[0]), np.mean(agent_positions[1])])\\n    \\n    # Calculate the Euclidean distance from the agent to the goal center\\n    distance_to_goal = np.linalg.norm(agent_center - goal_center)\\n    \\n    # Normalize the distance based on the maximum possible distance in the image (diagonal of the image)\\n    max_distance = np.linalg.norm([152, 152])\\n    normalized_distance = distance_to_goal / max_distance\\n    \\n    # Calculate the reward as the inverse of the distance (1 is maximum reward when distance is 0)\\n    reward = 1 - normalized_distance\\n    \\n    return reward\"]\n"
     ]
    }
   ],
   "source": [
    "print(completion_funcs_execute)"
   ]
  },
  {
   "cell_type": "code",
   "execution_count": 54,
   "metadata": {},
   "outputs": [
    {
     "name": "stdout",
     "output_type": "stream",
     "text": [
      "def reward_0(observation, lockedroom_color, keyroom_color, door_color):\n",
      "    import numpy as np\n",
      "    \n",
      "    # Define color mappings in normalized RGB\n",
      "    color_map = {\n",
      "        'red': np.array([1, 0, 0]),\n",
      "        'green': np.array([0, 1, 0]),\n",
      "        'blue': np.array([0, 0, 1]),\n",
      "        'purple': np.array([0.5, 0, 0.5]),\n",
      "        'yellow': np.array([1, 1, 0]),\n",
      "        'grey': np.array([0.5, 0.5, 0.5])\n",
      "    }\n",
      "    \n",
      "    # Normalize the image array\n",
      "    image = observation['image'].astype(np.float32) / 255.0\n",
      "    target_color = color_map[keyroom_color]\n",
      "    \n",
      "    # Calculate the mean squared error between each pixel and the target color\n",
      "    mse = np.sum((image - target_color) ** 2, axis=2)\n",
      "    \n",
      "    # Find the coordinates of the minimum MSE\n",
      "    target_coords = np.unravel_index(np.argmin(mse), mse.shape)\n",
      "    \n",
      "    # Assume the agent's position is at the center of the image (as a simplification)\n",
      "    agent_position = (76, 76)  # Center of a 152x152 image\n",
      "    \n",
      "    # Calculate the Euclidean distance from the agent to the target\n",
      "    distance = np.sqrt((target_coords[0] - agent_position[0]) ** 2 + (target_coords[1] - agent_position[1]) ** 2)\n",
      "    \n",
      "    # Normalize the distance to be between 0 and 1, where 0 is the farthest possible distance (corner to corner)\n",
      "    max_distance = np.sqrt(2 * 76**2)\n",
      "    normalized_distance = distance / max_distance\n",
      "    \n",
      "    # Reward is inversely proportional to the normalized distance\n",
      "    reward = 1 - normalized_distance\n",
      "    \n",
      "    return reward\n"
     ]
    }
   ],
   "source": [
    "print(completion_funcs_execute[0])"
   ]
  },
  {
   "cell_type": "code",
   "execution_count": 56,
   "metadata": {},
   "outputs": [],
   "source": [
    "import numpy as np\n",
    "\n",
    "the_image = None\n",
    "\n",
    "def reward_999(observation, lockedroom_color, keyroom_color, door_color):\n",
    "    global the_image\n",
    "    # Extract the image from the observation\n",
    "    image = observation['image']\n",
    "    the_image = image\n",
    "    # print(image)\n",
    "    # print(image.shape)\n",
    "    # raise ValueError\n",
    "    \n",
    "    # Define a simple color mapping in RGB\n",
    "    color_mapping = {\n",
    "        'red': np.array([255, 0, 0]),\n",
    "        'green': np.array([0, 255, 0]),\n",
    "        'blue': np.array([0, 0, 255]),\n",
    "        'purple': np.array([128, 0, 128]),\n",
    "        'yellow': np.array([255, 255, 0]),\n",
    "        'grey': np.array([128, 128, 128])\n",
    "    }\n",
    "    \n",
    "    # Define a tolerance for color matching\n",
    "    tolerance = 30\n",
    "\n",
    "    print(keyroom_color)\n",
    "    \n",
    "    # Get the RGB values for the keyroom color\n",
    "    target_color = color_mapping[keyroom_color]\n",
    "    \n",
    "    # Calculate the mask where the color matches the keyroom color within the tolerance\n",
    "    mask = np.all(np.abs(image - target_color) <= tolerance, axis=-1)\n",
    "\n",
    "    \n",
    "    # Find the centroid of the keyroom color area\n",
    "    y_indices, x_indices = np.where(mask)\n",
    "    if len(y_indices) == 0 or len(x_indices) == 0:\n",
    "        print(\"Keyroom color not found in the image.\")\n",
    "        return 0\n",
    "    \n",
    "    centroid_x = np.mean(x_indices)\n",
    "    centroid_y = np.mean(y_indices)\n",
    "    \n",
    "    # Assume the agent's position is at the center of the image (since we don't have exact position)\n",
    "    agent_x, agent_y = 76, 76  # Center of a 152x152 image\n",
    "    \n",
    "    # Calculate the Euclidean distance from the agent to the centroid of the keyroom\n",
    "    distance = np.sqrt((centroid_x - agent_x) ** 2 + (centroid_y - agent_y) ** 2)\n",
    "    \n",
    "    # Normalize the distance to a reward (closer should have higher reward)\n",
    "    max_distance = np.sqrt(2 * 76**2)  # Maximum possible distance in the image from center\n",
    "    reward = 1 - (distance / max_distance)\n",
    "    \n",
    "    print(f\"Agent is {distance:.2f} pixels away from the centroid of the {keyroom_color} room.\")\n",
    "    print(f\"Reward calculated: {reward:.4f}\")\n",
    "    \n",
    "    return reward\n"
   ]
  },
  {
   "cell_type": "code",
   "execution_count": 63,
   "metadata": {},
   "outputs": [
    {
     "name": "stderr",
     "output_type": "stream",
     "text": [
      "/Users/lucg/.pyenv/versions/3.10.13/envs/6.8200/lib/python3.10/site-packages/gymnasium/core.py:311: UserWarning: \u001b[33mWARN: env.width to get variables from other wrappers is deprecated and will be removed in v1.0, to get this variable you can do `env.unwrapped.width` for environment variables or `env.get_wrapper_attr('width')` that will search the reminding wrappers.\u001b[0m\n",
      "  logger.warn(\n",
      "/Users/lucg/.pyenv/versions/3.10.13/envs/6.8200/lib/python3.10/site-packages/gymnasium/core.py:311: UserWarning: \u001b[33mWARN: env.height to get variables from other wrappers is deprecated and will be removed in v1.0, to get this variable you can do `env.unwrapped.height` for environment variables or `env.get_wrapper_attr('height')` that will search the reminding wrappers.\u001b[0m\n",
      "  logger.warn(\n"
     ]
    }
   ],
   "source": [
    "EPSILON = 0.2\n",
    "def generate_total_reward():\n",
    "    goal_number = 0\n",
    "    reward_funcs = [reward_0, reward_1, reward_2, reward_3, reward_4]\n",
    "    def total_reward(obs):\n",
    "        nonlocal goal_number\n",
    "        \n",
    "        # turn obs back into mission string\n",
    "        #obs['mission'] = mission_to_string(obs['mission'])\n",
    "        \n",
    "        # preprocess -- ideally this would be done with LLM if we had more compute\n",
    "        lockedroom_color = obs['mission'].split(' ')[2]\n",
    "        keyroom_color = obs['mission'].split(' ')[6]\n",
    "        door_color = obs['mission'].split(' ')[10]\n",
    "        \n",
    "        reward = reward_funcs[goal_number](obs, lockedroom_color, keyroom_color, door_color)\n",
    "        # print(\"current goal number\", goal_number)\n",
    "        # print(f\"goal: {goal_number} | reward:{reward}\")\n",
    "\n",
    "        if reward > 1-EPSILON:\n",
    "            print(f\"switching functions from {goal_number} to {goal_number + 1}\")\n",
    "            goal_number += 1\n",
    "        \n",
    "        return reward\n",
    "    \n",
    "    return total_reward\n",
    "\n",
    "env = gymnasium.make(\"MiniGrid-LockedRoom-v0\", render_mode=\"rgb_array\")\n",
    "# env = RGBImgPartialObsWrapper(env) # convert to RGB obs\n",
    "env = RGBImgObsWrapper(env) # convert to RGB obs\n",
    "env = RewardFunctionWrapper(env, compute_reward_func = generate_total_reward)\n",
    "\n",
    "env = DictObservationSpaceWrapper(env)\n",
    "\n",
    "env = MissionEncodingWrapper(env)\n"
   ]
  },
  {
   "cell_type": "code",
   "execution_count": null,
   "metadata": {},
   "outputs": [],
   "source": []
  },
  {
   "cell_type": "code",
   "execution_count": 64,
   "metadata": {},
   "outputs": [],
   "source": [
    "# env.reset()\n",
    "# print(env.step)\n",
    "# obs, reward, done, truncated, info = env.step(0)\n",
    "# plt.imshow(obs['image'])\n",
    "# print(env.unwrapped.agent_pos)"
   ]
  },
  {
   "cell_type": "code",
   "execution_count": 65,
   "metadata": {},
   "outputs": [],
   "source": [
    "# plt.imshow(the_image)"
   ]
  },
  {
   "cell_type": "code",
   "execution_count": 67,
   "metadata": {},
   "outputs": [
    {
     "name": "stdout",
     "output_type": "stream",
     "text": [
      "Using cpu device\n",
      "Wrapping the env with a `Monitor` wrapper\n",
      "Wrapping the env in a DummyVecEnv.\n",
      "Wrapping the env in a VecTransposeImage.\n",
      "switching functions from 0 to 1\n",
      "switching functions from 1 to 2\n",
      "switching functions from 2 to 3\n"
     ]
    },
    {
     "name": "stderr",
     "output_type": "stream",
     "text": [
      "<string>:33: RuntimeWarning: invalid value encountered in divide\n",
      "<string>:51: RuntimeWarning: invalid value encountered in divide\n"
     ]
    },
    {
     "name": "stdout",
     "output_type": "stream",
     "text": [
      "switching functions from 0 to 1\n",
      "switching functions from 1 to 2\n",
      "switching functions from 2 to 3\n",
      "switching functions from 0 to 1\n",
      "switching functions from 1 to 2\n",
      "switching functions from 2 to 3\n",
      "---------------------------------\n",
      "| rollout/           |          |\n",
      "|    ep_len_mean     | 190      |\n",
      "|    ep_rew_mean     | 83.5     |\n",
      "| time/              |          |\n",
      "|    fps             | 197      |\n",
      "|    iterations      | 1        |\n",
      "|    time_elapsed    | 10       |\n",
      "|    total_timesteps | 2048     |\n",
      "---------------------------------\n",
      "switching functions from 0 to 1\n",
      "switching functions from 1 to 2\n",
      "switching functions from 2 to 3\n",
      "switching functions from 0 to 1\n",
      "switching functions from 1 to 2\n",
      "switching functions from 0 to 1\n",
      "switching functions from 1 to 2\n",
      "switching functions from 2 to 3\n",
      "switching functions from 0 to 1\n",
      "switching functions from 1 to 2\n",
      "switching functions from 0 to 1\n",
      "------------------------------------------\n",
      "| rollout/                |              |\n",
      "|    ep_len_mean          | 190          |\n",
      "|    ep_rew_mean          | 72.7         |\n",
      "| time/                   |              |\n",
      "|    fps                  | 42           |\n",
      "|    iterations           | 2            |\n",
      "|    time_elapsed         | 96           |\n",
      "|    total_timesteps      | 4096         |\n",
      "| train/                  |              |\n",
      "|    approx_kl            | 0.0034948788 |\n",
      "|    clip_fraction        | 0.0123       |\n",
      "|    clip_range           | 0.2          |\n",
      "|    entropy_loss         | -1.94        |\n",
      "|    explained_variance   | 0.00307      |\n",
      "|    learning_rate        | 0.0003       |\n",
      "|    loss                 | -0.95        |\n",
      "|    n_updates            | 10           |\n",
      "|    policy_gradient_loss | -0.00525     |\n",
      "|    value_loss           | 4.66         |\n",
      "------------------------------------------\n",
      "switching functions from 1 to 2\n",
      "switching functions from 2 to 3\n",
      "switching functions from 0 to 1\n",
      "switching functions from 1 to 2\n",
      "switching functions from 2 to 3\n",
      "switching functions from 0 to 1\n",
      "switching functions from 1 to 2\n",
      "switching functions from 2 to 3\n",
      "switching functions from 0 to 1\n",
      "switching functions from 1 to 2\n",
      "switching functions from 2 to 3\n",
      "switching functions from 0 to 1\n",
      "switching functions from 1 to 2\n",
      "switching functions from 2 to 3\n",
      "------------------------------------------\n",
      "| rollout/                |              |\n",
      "|    ep_len_mean          | 190          |\n",
      "|    ep_rew_mean          | 79.9         |\n",
      "| time/                   |              |\n",
      "|    fps                  | 36           |\n",
      "|    iterations           | 3            |\n",
      "|    time_elapsed         | 167          |\n",
      "|    total_timesteps      | 6144         |\n",
      "| train/                  |              |\n",
      "|    approx_kl            | 0.0047431607 |\n",
      "|    clip_fraction        | 0.00269      |\n",
      "|    clip_range           | 0.2          |\n",
      "|    entropy_loss         | -1.94        |\n",
      "|    explained_variance   | -0.275       |\n",
      "|    learning_rate        | 0.0003       |\n",
      "|    loss                 | 0.869        |\n",
      "|    n_updates            | 20           |\n",
      "|    policy_gradient_loss | -0.00236     |\n",
      "|    value_loss           | 6.76         |\n",
      "------------------------------------------\n",
      "switching functions from 0 to 1\n",
      "switching functions from 1 to 2\n",
      "switching functions from 2 to 3\n",
      "switching functions from 0 to 1\n",
      "switching functions from 1 to 2\n",
      "switching functions from 2 to 3\n",
      "switching functions from 0 to 1\n",
      "switching functions from 1 to 2\n",
      "switching functions from 2 to 3\n",
      "switching functions from 0 to 1\n",
      "switching functions from 1 to 2\n",
      "switching functions from 2 to 3\n",
      "switching functions from 0 to 1\n",
      "switching functions from 1 to 2\n",
      "switching functions from 0 to 1\n",
      "switching functions from 1 to 2\n",
      "-----------------------------------------\n",
      "| rollout/                |             |\n",
      "|    ep_len_mean          | 190         |\n",
      "|    ep_rew_mean          | 83.9        |\n",
      "| time/                   |             |\n",
      "|    fps                  | 34          |\n",
      "|    iterations           | 4           |\n",
      "|    time_elapsed         | 237         |\n",
      "|    total_timesteps      | 8192        |\n",
      "| train/                  |             |\n",
      "|    approx_kl            | 0.005790093 |\n",
      "|    clip_fraction        | 0.0271      |\n",
      "|    clip_range           | 0.2         |\n",
      "|    entropy_loss         | -1.94       |\n",
      "|    explained_variance   | 0.116       |\n",
      "|    learning_rate        | 0.0003      |\n",
      "|    loss                 | -0.344      |\n",
      "|    n_updates            | 30          |\n",
      "|    policy_gradient_loss | -0.00626    |\n",
      "|    value_loss           | 5.79        |\n",
      "-----------------------------------------\n",
      "switching functions from 0 to 1\n",
      "switching functions from 0 to 1\n",
      "switching functions from 1 to 2\n",
      "-----------------------------------------\n",
      "| rollout/                |             |\n",
      "|    ep_len_mean          | 190         |\n",
      "|    ep_rew_mean          | 85.9        |\n",
      "| time/                   |             |\n",
      "|    fps                  | 30          |\n",
      "|    iterations           | 5           |\n",
      "|    time_elapsed         | 332         |\n",
      "|    total_timesteps      | 10240       |\n",
      "| train/                  |             |\n",
      "|    approx_kl            | 0.004765308 |\n",
      "|    clip_fraction        | 0.0193      |\n",
      "|    clip_range           | 0.2         |\n",
      "|    entropy_loss         | -1.94       |\n",
      "|    explained_variance   | 0.219       |\n",
      "|    learning_rate        | 0.0003      |\n",
      "|    loss                 | -0.976      |\n",
      "|    n_updates            | 40          |\n",
      "|    policy_gradient_loss | -0.00939    |\n",
      "|    value_loss           | 4.31        |\n",
      "-----------------------------------------\n",
      "switching functions from 0 to 1\n",
      "switching functions from 1 to 2\n",
      "switching functions from 2 to 3\n",
      "switching functions from 0 to 1\n",
      "switching functions from 1 to 2\n",
      "switching functions from 2 to 3\n",
      "------------------------------------------\n",
      "| rollout/                |              |\n",
      "|    ep_len_mean          | 190          |\n",
      "|    ep_rew_mean          | 89.5         |\n",
      "| time/                   |              |\n",
      "|    fps                  | 30           |\n",
      "|    iterations           | 6            |\n",
      "|    time_elapsed         | 400          |\n",
      "|    total_timesteps      | 12288        |\n",
      "| train/                  |              |\n",
      "|    approx_kl            | 0.0071164295 |\n",
      "|    clip_fraction        | 0.0315       |\n",
      "|    clip_range           | 0.2          |\n",
      "|    entropy_loss         | -1.94        |\n",
      "|    explained_variance   | 0.132        |\n",
      "|    learning_rate        | 0.0003       |\n",
      "|    loss                 | -1.35        |\n",
      "|    n_updates            | 50           |\n",
      "|    policy_gradient_loss | -0.00956     |\n",
      "|    value_loss           | 2.03         |\n",
      "------------------------------------------\n",
      "switching functions from 0 to 1\n",
      "switching functions from 1 to 2\n",
      "switching functions from 2 to 3\n",
      "switching functions from 0 to 1\n",
      "switching functions from 1 to 2\n",
      "switching functions from 2 to 3\n",
      "switching functions from 3 to 4\n",
      "switching functions from 0 to 1\n",
      "switching functions from 1 to 2\n",
      "switching functions from 2 to 3\n",
      "switching functions from 0 to 1\n",
      "switching functions from 1 to 2\n",
      "switching functions from 2 to 3\n",
      "-----------------------------------------\n",
      "| rollout/                |             |\n",
      "|    ep_len_mean          | 190         |\n",
      "|    ep_rew_mean          | 88.5        |\n",
      "| time/                   |             |\n",
      "|    fps                  | 30          |\n",
      "|    iterations           | 7           |\n",
      "|    time_elapsed         | 467         |\n",
      "|    total_timesteps      | 14336       |\n",
      "| train/                  |             |\n",
      "|    approx_kl            | 0.008220008 |\n",
      "|    clip_fraction        | 0.0717      |\n",
      "|    clip_range           | 0.2         |\n",
      "|    entropy_loss         | -1.94       |\n",
      "|    explained_variance   | 0.0773      |\n",
      "|    learning_rate        | 0.0003      |\n",
      "|    loss                 | -1.6        |\n",
      "|    n_updates            | 60          |\n",
      "|    policy_gradient_loss | -0.0169     |\n",
      "|    value_loss           | 1.5         |\n",
      "-----------------------------------------\n",
      "switching functions from 0 to 1\n",
      "switching functions from 1 to 2\n",
      "switching functions from 2 to 3\n",
      "switching functions from 0 to 1\n",
      "switching functions from 1 to 2\n",
      "switching functions from 2 to 3\n",
      "switching functions from 0 to 1\n",
      "switching functions from 1 to 2\n",
      "switching functions from 2 to 3\n",
      "switching functions from 0 to 1\n",
      "switching functions from 1 to 2\n",
      "switching functions from 2 to 3\n",
      "switching functions from 0 to 1\n",
      "switching functions from 1 to 2\n",
      "switching functions from 2 to 3\n",
      "-----------------------------------------\n",
      "| rollout/                |             |\n",
      "|    ep_len_mean          | 190         |\n",
      "|    ep_rew_mean          | 88.3        |\n",
      "| time/                   |             |\n",
      "|    fps                  | 29          |\n",
      "|    iterations           | 8           |\n",
      "|    time_elapsed         | 558         |\n",
      "|    total_timesteps      | 16384       |\n",
      "| train/                  |             |\n",
      "|    approx_kl            | 0.011124709 |\n",
      "|    clip_fraction        | 0.104       |\n",
      "|    clip_range           | 0.2         |\n",
      "|    entropy_loss         | -1.94       |\n",
      "|    explained_variance   | -0.112      |\n",
      "|    learning_rate        | 0.0003      |\n",
      "|    loss                 | -1.56       |\n",
      "|    n_updates            | 70          |\n",
      "|    policy_gradient_loss | -0.0239     |\n",
      "|    value_loss           | 0.728       |\n",
      "-----------------------------------------\n",
      "switching functions from 0 to 1\n",
      "switching functions from 1 to 2\n",
      "switching functions from 2 to 3\n",
      "switching functions from 0 to 1\n",
      "switching functions from 1 to 2\n",
      "switching functions from 2 to 3\n",
      "switching functions from 0 to 1\n",
      "switching functions from 1 to 2\n",
      "switching functions from 2 to 3\n",
      "switching functions from 0 to 1\n",
      "switching functions from 1 to 2\n",
      "switching functions from 2 to 3\n",
      "switching functions from 0 to 1\n",
      "switching functions from 1 to 2\n",
      "switching functions from 0 to 1\n",
      "switching functions from 1 to 2\n",
      "switching functions from 2 to 3\n",
      "switching functions from 0 to 1\n",
      "switching functions from 1 to 2\n",
      "switching functions from 2 to 3\n",
      "-----------------------------------------\n",
      "| rollout/                |             |\n",
      "|    ep_len_mean          | 190         |\n",
      "|    ep_rew_mean          | 88.2        |\n",
      "| time/                   |             |\n",
      "|    fps                  | 29          |\n",
      "|    iterations           | 9           |\n",
      "|    time_elapsed         | 630         |\n",
      "|    total_timesteps      | 18432       |\n",
      "| train/                  |             |\n",
      "|    approx_kl            | 0.009387101 |\n",
      "|    clip_fraction        | 0.125       |\n",
      "|    clip_range           | 0.2         |\n",
      "|    entropy_loss         | -1.94       |\n",
      "|    explained_variance   | 0.0989      |\n",
      "|    learning_rate        | 0.0003      |\n",
      "|    loss                 | -1.5        |\n",
      "|    n_updates            | 80          |\n",
      "|    policy_gradient_loss | -0.014      |\n",
      "|    value_loss           | 1.4         |\n",
      "-----------------------------------------\n",
      "switching functions from 0 to 1\n",
      "switching functions from 1 to 2\n",
      "switching functions from 0 to 1\n",
      "switching functions from 1 to 2\n",
      "switching functions from 0 to 1\n",
      "switching functions from 1 to 2\n",
      "switching functions from 0 to 1\n",
      "switching functions from 1 to 2\n",
      "switching functions from 2 to 3\n",
      "switching functions from 0 to 1\n",
      "switching functions from 1 to 2\n",
      "switching functions from 2 to 3\n",
      "switching functions from 0 to 1\n",
      "switching functions from 1 to 2\n",
      "-----------------------------------------\n",
      "| rollout/                |             |\n",
      "|    ep_len_mean          | 190         |\n",
      "|    ep_rew_mean          | 87.6        |\n",
      "| time/                   |             |\n",
      "|    fps                  | 29          |\n",
      "|    iterations           | 10          |\n",
      "|    time_elapsed         | 696         |\n",
      "|    total_timesteps      | 20480       |\n",
      "| train/                  |             |\n",
      "|    approx_kl            | 0.012471858 |\n",
      "|    clip_fraction        | 0.136       |\n",
      "|    clip_range           | 0.2         |\n",
      "|    entropy_loss         | -1.94       |\n",
      "|    explained_variance   | 0.027       |\n",
      "|    learning_rate        | 0.0003      |\n",
      "|    loss                 | -1.72       |\n",
      "|    n_updates            | 90          |\n",
      "|    policy_gradient_loss | -0.0349     |\n",
      "|    value_loss           | 1.25        |\n",
      "-----------------------------------------\n"
     ]
    },
    {
     "name": "stderr",
     "output_type": "stream",
     "text": [
      "/Users/lucg/.pyenv/versions/3.10.13/envs/6.8200/lib/python3.10/site-packages/gymnasium/wrappers/record_video.py:94: UserWarning: \u001b[33mWARN: Overwriting existing videos at /Users/lucg/Library/Mobile Documents/com~apple~CloudDocs/Content/Work/MIT/academics/semesters/2024s/6.8200/final project/language-reward-design/kai/videos/minigrid-language-8 folder (try specifying a different `video_folder` for the `RecordVideo` wrapper if this is not desired)\u001b[0m\n",
      "  logger.warn(\n"
     ]
    },
    {
     "name": "stdout",
     "output_type": "stream",
     "text": [
      "Moviepy - Building video /Users/lucg/Library/Mobile Documents/com~apple~CloudDocs/Content/Work/MIT/academics/semesters/2024s/6.8200/final project/language-reward-design/kai/videos/minigrid-language-8/rl-video-episode-0.mp4.\n",
      "Moviepy - Writing video /Users/lucg/Library/Mobile Documents/com~apple~CloudDocs/Content/Work/MIT/academics/semesters/2024s/6.8200/final project/language-reward-design/kai/videos/minigrid-language-8/rl-video-episode-0.mp4\n",
      "\n"
     ]
    },
    {
     "name": "stderr",
     "output_type": "stream",
     "text": [
      "                                                  "
     ]
    },
    {
     "name": "stdout",
     "output_type": "stream",
     "text": [
      "Moviepy - Done !\n",
      "Moviepy - video ready /Users/lucg/Library/Mobile Documents/com~apple~CloudDocs/Content/Work/MIT/academics/semesters/2024s/6.8200/final project/language-reward-design/kai/videos/minigrid-language-8/rl-video-episode-0.mp4\n"
     ]
    },
    {
     "name": "stderr",
     "output_type": "stream",
     "text": [
      "/Users/lucg/.pyenv/versions/3.10.13/envs/6.8200/lib/python3.10/site-packages/gymnasium/core.py:311: UserWarning: \u001b[33mWARN: env.get_frame to get variables from other wrappers is deprecated and will be removed in v1.0, to get this variable you can do `env.unwrapped.get_frame` for environment variables or `env.get_wrapper_attr('get_frame')` that will search the reminding wrappers.\u001b[0m\n",
      "  logger.warn(\n"
     ]
    },
    {
     "name": "stdout",
     "output_type": "stream",
     "text": [
      "Moviepy - Building video /Users/lucg/Library/Mobile Documents/com~apple~CloudDocs/Content/Work/MIT/academics/semesters/2024s/6.8200/final project/language-reward-design/kai/videos/minigrid-language-8/rl-video-episode-0.mp4.\n",
      "Moviepy - Writing video /Users/lucg/Library/Mobile Documents/com~apple~CloudDocs/Content/Work/MIT/academics/semesters/2024s/6.8200/final project/language-reward-design/kai/videos/minigrid-language-8/rl-video-episode-0.mp4\n",
      "\n"
     ]
    },
    {
     "name": "stderr",
     "output_type": "stream",
     "text": [
      "/Users/lucg/.pyenv/versions/3.10.13/envs/6.8200/lib/python3.10/site-packages/gymnasium/core.py:311: UserWarning: \u001b[33mWARN: env.get_frame to get variables from other wrappers is deprecated and will be removed in v1.0, to get this variable you can do `env.unwrapped.get_frame` for environment variables or `env.get_wrapper_attr('get_frame')` that will search the reminding wrappers.\u001b[0m\n",
      "  logger.warn(\n"
     ]
    },
    {
     "name": "stdout",
     "output_type": "stream",
     "text": [
      "Moviepy - Done !\n",
      "Moviepy - video ready /Users/lucg/Library/Mobile Documents/com~apple~CloudDocs/Content/Work/MIT/academics/semesters/2024s/6.8200/final project/language-reward-design/kai/videos/minigrid-language-8/rl-video-episode-0.mp4\n",
      "switching functions from 0 to 1\n",
      "switching functions from 1 to 2\n",
      "switching functions from 2 to 3\n"
     ]
    },
    {
     "name": "stderr",
     "output_type": "stream",
     "text": [
      "<string>:33: RuntimeWarning: invalid value encountered in divide\n",
      "<string>:51: RuntimeWarning: invalid value encountered in divide\n"
     ]
    },
    {
     "ename": "KeyboardInterrupt",
     "evalue": "",
     "output_type": "error",
     "traceback": [
      "\u001b[0;31m---------------------------------------------------------------------------\u001b[0m",
      "\u001b[0;31mKeyboardInterrupt\u001b[0m                         Traceback (most recent call last)",
      "Cell \u001b[0;32mIn[67], line 13\u001b[0m\n\u001b[1;32m     11\u001b[0m steps \u001b[38;5;241m=\u001b[39m \u001b[38;5;241m0\u001b[39m\n\u001b[1;32m     12\u001b[0m \u001b[38;5;28;01mwhile\u001b[39;00m \u001b[38;5;129;01mnot\u001b[39;00m done \u001b[38;5;129;01mand\u001b[39;00m steps \u001b[38;5;241m<\u001b[39m\u001b[38;5;241m=\u001b[39m \u001b[38;5;241m50000\u001b[39m:\n\u001b[0;32m---> 13\u001b[0m     action \u001b[38;5;241m=\u001b[39m \u001b[43mmodel\u001b[49m\u001b[38;5;241;43m.\u001b[39;49m\u001b[43mpredict\u001b[49m\u001b[43m(\u001b[49m\u001b[43mobs\u001b[49m\u001b[43m)\u001b[49m[\u001b[38;5;241m0\u001b[39m]\n\u001b[1;32m     14\u001b[0m     obs, reward, done, truncated, info \u001b[38;5;241m=\u001b[39m video_env\u001b[38;5;241m.\u001b[39mstep(action)\n\u001b[1;32m     15\u001b[0m     steps \u001b[38;5;241m+\u001b[39m\u001b[38;5;241m=\u001b[39m \u001b[38;5;241m1\u001b[39m\n",
      "File \u001b[0;32m~/.pyenv/versions/3.10.13/envs/6.8200/lib/python3.10/site-packages/stable_baselines3/common/base_class.py:556\u001b[0m, in \u001b[0;36mBaseAlgorithm.predict\u001b[0;34m(self, observation, state, episode_start, deterministic)\u001b[0m\n\u001b[1;32m    536\u001b[0m \u001b[38;5;28;01mdef\u001b[39;00m \u001b[38;5;21mpredict\u001b[39m(\n\u001b[1;32m    537\u001b[0m     \u001b[38;5;28mself\u001b[39m,\n\u001b[1;32m    538\u001b[0m     observation: Union[np\u001b[38;5;241m.\u001b[39mndarray, Dict[\u001b[38;5;28mstr\u001b[39m, np\u001b[38;5;241m.\u001b[39mndarray]],\n\u001b[0;32m   (...)\u001b[0m\n\u001b[1;32m    541\u001b[0m     deterministic: \u001b[38;5;28mbool\u001b[39m \u001b[38;5;241m=\u001b[39m \u001b[38;5;28;01mFalse\u001b[39;00m,\n\u001b[1;32m    542\u001b[0m ) \u001b[38;5;241m-\u001b[39m\u001b[38;5;241m>\u001b[39m Tuple[np\u001b[38;5;241m.\u001b[39mndarray, Optional[Tuple[np\u001b[38;5;241m.\u001b[39mndarray, \u001b[38;5;241m.\u001b[39m\u001b[38;5;241m.\u001b[39m\u001b[38;5;241m.\u001b[39m]]]:\n\u001b[1;32m    543\u001b[0m \u001b[38;5;250m    \u001b[39m\u001b[38;5;124;03m\"\"\"\u001b[39;00m\n\u001b[1;32m    544\u001b[0m \u001b[38;5;124;03m    Get the policy action from an observation (and optional hidden state).\u001b[39;00m\n\u001b[1;32m    545\u001b[0m \u001b[38;5;124;03m    Includes sugar-coating to handle different observations (e.g. normalizing images).\u001b[39;00m\n\u001b[0;32m   (...)\u001b[0m\n\u001b[1;32m    554\u001b[0m \u001b[38;5;124;03m        (used in recurrent policies)\u001b[39;00m\n\u001b[1;32m    555\u001b[0m \u001b[38;5;124;03m    \"\"\"\u001b[39;00m\n\u001b[0;32m--> 556\u001b[0m     \u001b[38;5;28;01mreturn\u001b[39;00m \u001b[38;5;28;43mself\u001b[39;49m\u001b[38;5;241;43m.\u001b[39;49m\u001b[43mpolicy\u001b[49m\u001b[38;5;241;43m.\u001b[39;49m\u001b[43mpredict\u001b[49m\u001b[43m(\u001b[49m\u001b[43mobservation\u001b[49m\u001b[43m,\u001b[49m\u001b[43m \u001b[49m\u001b[43mstate\u001b[49m\u001b[43m,\u001b[49m\u001b[43m \u001b[49m\u001b[43mepisode_start\u001b[49m\u001b[43m,\u001b[49m\u001b[43m \u001b[49m\u001b[43mdeterministic\u001b[49m\u001b[43m)\u001b[49m\n",
      "File \u001b[0;32m~/.pyenv/versions/3.10.13/envs/6.8200/lib/python3.10/site-packages/stable_baselines3/common/policies.py:368\u001b[0m, in \u001b[0;36mBasePolicy.predict\u001b[0;34m(self, observation, state, episode_start, deterministic)\u001b[0m\n\u001b[1;32m    365\u001b[0m obs_tensor, vectorized_env \u001b[38;5;241m=\u001b[39m \u001b[38;5;28mself\u001b[39m\u001b[38;5;241m.\u001b[39mobs_to_tensor(observation)\n\u001b[1;32m    367\u001b[0m \u001b[38;5;28;01mwith\u001b[39;00m th\u001b[38;5;241m.\u001b[39mno_grad():\n\u001b[0;32m--> 368\u001b[0m     actions \u001b[38;5;241m=\u001b[39m \u001b[38;5;28;43mself\u001b[39;49m\u001b[38;5;241;43m.\u001b[39;49m\u001b[43m_predict\u001b[49m\u001b[43m(\u001b[49m\u001b[43mobs_tensor\u001b[49m\u001b[43m,\u001b[49m\u001b[43m \u001b[49m\u001b[43mdeterministic\u001b[49m\u001b[38;5;241;43m=\u001b[39;49m\u001b[43mdeterministic\u001b[49m\u001b[43m)\u001b[49m\n\u001b[1;32m    369\u001b[0m \u001b[38;5;66;03m# Convert to numpy, and reshape to the original action shape\u001b[39;00m\n\u001b[1;32m    370\u001b[0m actions \u001b[38;5;241m=\u001b[39m actions\u001b[38;5;241m.\u001b[39mcpu()\u001b[38;5;241m.\u001b[39mnumpy()\u001b[38;5;241m.\u001b[39mreshape((\u001b[38;5;241m-\u001b[39m\u001b[38;5;241m1\u001b[39m, \u001b[38;5;241m*\u001b[39m\u001b[38;5;28mself\u001b[39m\u001b[38;5;241m.\u001b[39maction_space\u001b[38;5;241m.\u001b[39mshape))  \u001b[38;5;66;03m# type: ignore[misc]\u001b[39;00m\n",
      "File \u001b[0;32m~/.pyenv/versions/3.10.13/envs/6.8200/lib/python3.10/site-packages/stable_baselines3/common/policies.py:717\u001b[0m, in \u001b[0;36mActorCriticPolicy._predict\u001b[0;34m(self, observation, deterministic)\u001b[0m\n\u001b[1;32m    709\u001b[0m \u001b[38;5;28;01mdef\u001b[39;00m \u001b[38;5;21m_predict\u001b[39m(\u001b[38;5;28mself\u001b[39m, observation: PyTorchObs, deterministic: \u001b[38;5;28mbool\u001b[39m \u001b[38;5;241m=\u001b[39m \u001b[38;5;28;01mFalse\u001b[39;00m) \u001b[38;5;241m-\u001b[39m\u001b[38;5;241m>\u001b[39m th\u001b[38;5;241m.\u001b[39mTensor:\n\u001b[1;32m    710\u001b[0m \u001b[38;5;250m    \u001b[39m\u001b[38;5;124;03m\"\"\"\u001b[39;00m\n\u001b[1;32m    711\u001b[0m \u001b[38;5;124;03m    Get the action according to the policy for a given observation.\u001b[39;00m\n\u001b[1;32m    712\u001b[0m \n\u001b[0;32m   (...)\u001b[0m\n\u001b[1;32m    715\u001b[0m \u001b[38;5;124;03m    :return: Taken action according to the policy\u001b[39;00m\n\u001b[1;32m    716\u001b[0m \u001b[38;5;124;03m    \"\"\"\u001b[39;00m\n\u001b[0;32m--> 717\u001b[0m     \u001b[38;5;28;01mreturn\u001b[39;00m \u001b[38;5;28;43mself\u001b[39;49m\u001b[38;5;241;43m.\u001b[39;49m\u001b[43mget_distribution\u001b[49m\u001b[43m(\u001b[49m\u001b[43mobservation\u001b[49m\u001b[43m)\u001b[49m\u001b[38;5;241m.\u001b[39mget_actions(deterministic\u001b[38;5;241m=\u001b[39mdeterministic)\n",
      "File \u001b[0;32m~/.pyenv/versions/3.10.13/envs/6.8200/lib/python3.10/site-packages/stable_baselines3/common/policies.py:751\u001b[0m, in \u001b[0;36mActorCriticPolicy.get_distribution\u001b[0;34m(self, obs)\u001b[0m\n\u001b[1;32m    744\u001b[0m \u001b[38;5;250m\u001b[39m\u001b[38;5;124;03m\"\"\"\u001b[39;00m\n\u001b[1;32m    745\u001b[0m \u001b[38;5;124;03mGet the current policy distribution given the observations.\u001b[39;00m\n\u001b[1;32m    746\u001b[0m \n\u001b[1;32m    747\u001b[0m \u001b[38;5;124;03m:param obs:\u001b[39;00m\n\u001b[1;32m    748\u001b[0m \u001b[38;5;124;03m:return: the action distribution.\u001b[39;00m\n\u001b[1;32m    749\u001b[0m \u001b[38;5;124;03m\"\"\"\u001b[39;00m\n\u001b[1;32m    750\u001b[0m features \u001b[38;5;241m=\u001b[39m \u001b[38;5;28msuper\u001b[39m()\u001b[38;5;241m.\u001b[39mextract_features(obs, \u001b[38;5;28mself\u001b[39m\u001b[38;5;241m.\u001b[39mpi_features_extractor)\n\u001b[0;32m--> 751\u001b[0m latent_pi \u001b[38;5;241m=\u001b[39m \u001b[38;5;28;43mself\u001b[39;49m\u001b[38;5;241;43m.\u001b[39;49m\u001b[43mmlp_extractor\u001b[49m\u001b[38;5;241;43m.\u001b[39;49m\u001b[43mforward_actor\u001b[49m\u001b[43m(\u001b[49m\u001b[43mfeatures\u001b[49m\u001b[43m)\u001b[49m\n\u001b[1;32m    752\u001b[0m \u001b[38;5;28;01mreturn\u001b[39;00m \u001b[38;5;28mself\u001b[39m\u001b[38;5;241m.\u001b[39m_get_action_dist_from_latent(latent_pi)\n",
      "File \u001b[0;32m~/.pyenv/versions/3.10.13/envs/6.8200/lib/python3.10/site-packages/stable_baselines3/common/torch_layers.py:225\u001b[0m, in \u001b[0;36mMlpExtractor.forward_actor\u001b[0;34m(self, features)\u001b[0m\n\u001b[1;32m    224\u001b[0m \u001b[38;5;28;01mdef\u001b[39;00m \u001b[38;5;21mforward_actor\u001b[39m(\u001b[38;5;28mself\u001b[39m, features: th\u001b[38;5;241m.\u001b[39mTensor) \u001b[38;5;241m-\u001b[39m\u001b[38;5;241m>\u001b[39m th\u001b[38;5;241m.\u001b[39mTensor:\n\u001b[0;32m--> 225\u001b[0m     \u001b[38;5;28;01mreturn\u001b[39;00m \u001b[38;5;28;43mself\u001b[39;49m\u001b[38;5;241;43m.\u001b[39;49m\u001b[43mpolicy_net\u001b[49m\u001b[43m(\u001b[49m\u001b[43mfeatures\u001b[49m\u001b[43m)\u001b[49m\n",
      "File \u001b[0;32m~/.pyenv/versions/3.10.13/envs/6.8200/lib/python3.10/site-packages/torch/nn/modules/module.py:1511\u001b[0m, in \u001b[0;36mModule._wrapped_call_impl\u001b[0;34m(self, *args, **kwargs)\u001b[0m\n\u001b[1;32m   1509\u001b[0m     \u001b[38;5;28;01mreturn\u001b[39;00m \u001b[38;5;28mself\u001b[39m\u001b[38;5;241m.\u001b[39m_compiled_call_impl(\u001b[38;5;241m*\u001b[39margs, \u001b[38;5;241m*\u001b[39m\u001b[38;5;241m*\u001b[39mkwargs)  \u001b[38;5;66;03m# type: ignore[misc]\u001b[39;00m\n\u001b[1;32m   1510\u001b[0m \u001b[38;5;28;01melse\u001b[39;00m:\n\u001b[0;32m-> 1511\u001b[0m     \u001b[38;5;28;01mreturn\u001b[39;00m \u001b[38;5;28;43mself\u001b[39;49m\u001b[38;5;241;43m.\u001b[39;49m\u001b[43m_call_impl\u001b[49m\u001b[43m(\u001b[49m\u001b[38;5;241;43m*\u001b[39;49m\u001b[43margs\u001b[49m\u001b[43m,\u001b[49m\u001b[43m \u001b[49m\u001b[38;5;241;43m*\u001b[39;49m\u001b[38;5;241;43m*\u001b[39;49m\u001b[43mkwargs\u001b[49m\u001b[43m)\u001b[49m\n",
      "File \u001b[0;32m~/.pyenv/versions/3.10.13/envs/6.8200/lib/python3.10/site-packages/torch/nn/modules/module.py:1520\u001b[0m, in \u001b[0;36mModule._call_impl\u001b[0;34m(self, *args, **kwargs)\u001b[0m\n\u001b[1;32m   1515\u001b[0m \u001b[38;5;66;03m# If we don't have any hooks, we want to skip the rest of the logic in\u001b[39;00m\n\u001b[1;32m   1516\u001b[0m \u001b[38;5;66;03m# this function, and just call forward.\u001b[39;00m\n\u001b[1;32m   1517\u001b[0m \u001b[38;5;28;01mif\u001b[39;00m \u001b[38;5;129;01mnot\u001b[39;00m (\u001b[38;5;28mself\u001b[39m\u001b[38;5;241m.\u001b[39m_backward_hooks \u001b[38;5;129;01mor\u001b[39;00m \u001b[38;5;28mself\u001b[39m\u001b[38;5;241m.\u001b[39m_backward_pre_hooks \u001b[38;5;129;01mor\u001b[39;00m \u001b[38;5;28mself\u001b[39m\u001b[38;5;241m.\u001b[39m_forward_hooks \u001b[38;5;129;01mor\u001b[39;00m \u001b[38;5;28mself\u001b[39m\u001b[38;5;241m.\u001b[39m_forward_pre_hooks\n\u001b[1;32m   1518\u001b[0m         \u001b[38;5;129;01mor\u001b[39;00m _global_backward_pre_hooks \u001b[38;5;129;01mor\u001b[39;00m _global_backward_hooks\n\u001b[1;32m   1519\u001b[0m         \u001b[38;5;129;01mor\u001b[39;00m _global_forward_hooks \u001b[38;5;129;01mor\u001b[39;00m _global_forward_pre_hooks):\n\u001b[0;32m-> 1520\u001b[0m     \u001b[38;5;28;01mreturn\u001b[39;00m \u001b[43mforward_call\u001b[49m\u001b[43m(\u001b[49m\u001b[38;5;241;43m*\u001b[39;49m\u001b[43margs\u001b[49m\u001b[43m,\u001b[49m\u001b[43m \u001b[49m\u001b[38;5;241;43m*\u001b[39;49m\u001b[38;5;241;43m*\u001b[39;49m\u001b[43mkwargs\u001b[49m\u001b[43m)\u001b[49m\n\u001b[1;32m   1522\u001b[0m \u001b[38;5;28;01mtry\u001b[39;00m:\n\u001b[1;32m   1523\u001b[0m     result \u001b[38;5;241m=\u001b[39m \u001b[38;5;28;01mNone\u001b[39;00m\n",
      "File \u001b[0;32m~/.pyenv/versions/3.10.13/envs/6.8200/lib/python3.10/site-packages/torch/nn/modules/container.py:217\u001b[0m, in \u001b[0;36mSequential.forward\u001b[0;34m(self, input)\u001b[0m\n\u001b[1;32m    215\u001b[0m \u001b[38;5;28;01mdef\u001b[39;00m \u001b[38;5;21mforward\u001b[39m(\u001b[38;5;28mself\u001b[39m, \u001b[38;5;28minput\u001b[39m):\n\u001b[1;32m    216\u001b[0m     \u001b[38;5;28;01mfor\u001b[39;00m module \u001b[38;5;129;01min\u001b[39;00m \u001b[38;5;28mself\u001b[39m:\n\u001b[0;32m--> 217\u001b[0m         \u001b[38;5;28minput\u001b[39m \u001b[38;5;241m=\u001b[39m \u001b[43mmodule\u001b[49m\u001b[43m(\u001b[49m\u001b[38;5;28;43minput\u001b[39;49m\u001b[43m)\u001b[49m\n\u001b[1;32m    218\u001b[0m     \u001b[38;5;28;01mreturn\u001b[39;00m \u001b[38;5;28minput\u001b[39m\n",
      "File \u001b[0;32m~/.pyenv/versions/3.10.13/envs/6.8200/lib/python3.10/site-packages/torch/nn/modules/module.py:1508\u001b[0m, in \u001b[0;36mModule._wrapped_call_impl\u001b[0;34m(self, *args, **kwargs)\u001b[0m\n\u001b[1;32m   1507\u001b[0m \u001b[38;5;28;01mdef\u001b[39;00m \u001b[38;5;21m_wrapped_call_impl\u001b[39m(\u001b[38;5;28mself\u001b[39m, \u001b[38;5;241m*\u001b[39margs, \u001b[38;5;241m*\u001b[39m\u001b[38;5;241m*\u001b[39mkwargs):\n\u001b[0;32m-> 1508\u001b[0m     \u001b[38;5;28;01mif\u001b[39;00m \u001b[38;5;28mself\u001b[39m\u001b[38;5;241m.\u001b[39m_compiled_call_impl \u001b[38;5;129;01mis\u001b[39;00m \u001b[38;5;129;01mnot\u001b[39;00m \u001b[38;5;28;01mNone\u001b[39;00m:\n\u001b[1;32m   1509\u001b[0m         \u001b[38;5;28;01mreturn\u001b[39;00m \u001b[38;5;28mself\u001b[39m\u001b[38;5;241m.\u001b[39m_compiled_call_impl(\u001b[38;5;241m*\u001b[39margs, \u001b[38;5;241m*\u001b[39m\u001b[38;5;241m*\u001b[39mkwargs)  \u001b[38;5;66;03m# type: ignore[misc]\u001b[39;00m\n\u001b[1;32m   1510\u001b[0m     \u001b[38;5;28;01melse\u001b[39;00m:\n",
      "\u001b[0;31mKeyboardInterrupt\u001b[0m: "
     ]
    }
   ],
   "source": [
    "model = PPO(\"MultiInputPolicy\", env, verbose=1, ent_coef=0.9)\n",
    "\n",
    "model.learn(2e4)\n",
    "model.save(\"minigrid_models/minigrid_custom/8-iterative-subgoals-generalized\")\n",
    "\n",
    "video_env = gymnasium.wrappers.RecordVideo(env, 'videos/minigrid-language-8', episode_trigger=lambda e: e % 2 == 0)\n",
    "\n",
    "obs, info = video_env.reset()\n",
    "done = False\n",
    "video_env.start_video_recorder()\n",
    "steps = 0\n",
    "while not done and steps <= 50000:\n",
    "    action = model.predict(obs)[0]\n",
    "    obs, reward, done, truncated, info = video_env.step(action)\n",
    "    steps += 1\n",
    "video_env.close_video_recorder()\n",
    "video_env.close()"
   ]
  },
  {
   "cell_type": "code",
   "execution_count": null,
   "metadata": {},
   "outputs": [],
   "source": []
  },
  {
   "cell_type": "code",
   "execution_count": null,
   "metadata": {},
   "outputs": [
    {
     "name": "stderr",
     "output_type": "stream",
     "text": [
      "/Users/kmcclenn/Documents/Class notes/6.8200/final_project/language-reward-design/.venv/lib/python3.12/site-packages/torch/nn/modules/transformer.py:306: UserWarning: enable_nested_tensor is True, but self.use_nested_tensor is False because encoder_layer.self_attn.batch_first was not True(use batch_first for better inference performance)\n",
      "  warnings.warn(f\"enable_nested_tensor is True, but self.use_nested_tensor is False because {why_not_sparsity_fast_path}\")\n",
      "/Users/kmcclenn/Documents/Class notes/6.8200/final_project/language-reward-design/.venv/lib/python3.12/site-packages/stable_baselines3/common/evaluation.py:67: UserWarning: Evaluation environment is not wrapped with a ``Monitor`` wrapper. This may result in reporting modified episode lengths and rewards, if other wrappers happen to modify these. Consider wrapping environment first with ``Monitor`` wrapper.\n",
      "  warnings.warn(\n"
     ]
    }
   ],
   "source": [
    "env = gymnasium.make(\"CustomLockedRoom-v0\", render_mode = \"rgb_array\", compute_reward = generate_total_reward())\n",
    "env = DictObservationSpaceWrapper(env)\n",
    "env = MissionEncodingWrapper(env)\n",
    "model = PPO.load(\"minigrid_models/minigrid_custom/1\")\n",
    "from stable_baselines3.common.evaluation import evaluate_policy\n",
    "mean_reward, std_reward = evaluate_policy(model, env, n_eval_episodes=10)\n"
   ]
  },
  {
   "cell_type": "code",
   "execution_count": null,
   "metadata": {},
   "outputs": [],
   "source": []
  }
 ],
 "metadata": {
  "kernelspec": {
   "display_name": ".venv",
   "language": "python",
   "name": "python3"
  },
  "language_info": {
   "codemirror_mode": {
    "name": "ipython",
    "version": 3
   },
   "file_extension": ".py",
   "mimetype": "text/x-python",
   "name": "python",
   "nbconvert_exporter": "python",
   "pygments_lexer": "ipython3",
   "version": "3.10.13"
  }
 },
 "nbformat": 4,
 "nbformat_minor": 2
}
