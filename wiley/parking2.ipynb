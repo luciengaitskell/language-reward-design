{
 "cells": [
  {
   "cell_type": "code",
   "execution_count": null,
   "metadata": {},
   "outputs": [],
   "source": [
    "import gymnasium as gym\n",
    "import numpy as np\n",
    "import custom_parking\n",
    "\n",
    "def compute_reward(self, achieved_goal: np.ndarray, desired_goal: np.ndarray, info: dict = None, p: float = 0.5) -> float:\n",
    "        \"\"\"\n",
    "        Proximity to the goal is rewarded\n",
    "\n",
    "        We use a weighted p-norm\n",
    "\n",
    "        :param achieved_goal: the goal that was achieved\n",
    "        :param desired_goal: the goal that was desired\n",
    "        :param dict info: any supplementary information\n",
    "        :param p: the Lp^p norm used in the reward. Use p<1 to have high kurtosis for rewards in [0, 1]\n",
    "        :return: the corresponding reward\n",
    "        \"\"\"\n",
    "        return -np.power(np.dot(np.abs(achieved_goal - desired_goal), np.array(self.config[\"reward_weights\"])), p)\n",
    "gym.make(\"CustomParking-v0\", compute_reward=compute_reward)\n"
   ]
  },
  {
   "cell_type": "code",
   "execution_count": null,
   "metadata": {},
   "outputs": [],
   "source": [
    "import gymnasium as gym\n",
    "from stable_baselines3 import DDPG\n",
    "from stable_baselines3.common.noise import NormalActionNoise, OrnsteinUhlenbeckActionNoise\n",
    "import numpy as np\n",
    "\n",
    "env = gym.make(\"CustomParking-v0\",  compute_reward=compute_reward, render_mode=\"rgb_array\")\n",
    "print(env.action_space)\n",
    "\n",
    "n_actions = env.action_space.shape[-1]\n",
    "action_noise = NormalActionNoise(mean=np.zeros(n_actions), sigma=0.1 * np.ones(n_actions))\n",
    "\n",
    "model = DDPG(\"MultiInputPolicy\", env, verbose=1)\n",
    "model.learn(total_timesteps=1000)\n",
    "model.save(\"ddpg_parking\")\n",
    "\n",
    "vec_env = model.get_env()\n",
    "obs = vec_env.reset()\n",
    "for i in range(1000):\n",
    "    action, _state = model.predict(obs, deterministic=True)\n",
    "    obs, reward, done, info = vec_env.step(action)\n",
    "    vec_env.render(\"human\")"
   ]
  },
  {
   "cell_type": "code",
   "execution_count": null,
   "metadata": {},
   "outputs": [],
   "source": [
    "import utils\n",
    "\n",
    "env = gym.make(\"CustomParking-v0\",  compute_reward=compute_reward, render_mode=\"rgb_array\")\n",
    "\n",
    "record_videos(env, prefix=\"ddpg_parking\")"
   ]
  },
  {
   "cell_type": "code",
   "execution_count": null,
   "metadata": {},
   "outputs": [],
   "source": [
    "import gymnasium as gym\n",
    "from stable_baselines3 import DDPG\n",
    "from stable_baselines3.common.noise import NormalActionNoise, OrnsteinUhlenbeckActionNoise\n",
    "import numpy as np\n",
    "\n",
    "\n",
    "env = gym.make(\"parking-v0\", render_mode=\"rgb_array\")\n",
    "\n",
    "model = DDPG.load(\"ddpg_parking\", env = env, verbose=1)\n",
    "vec_env = model.get_env()\n",
    "\n",
    "obs = vec_env.reset()\n",
    "for i in range(1000):\n",
    "    action, _state = model.predict(obs, deterministic=True)\n",
    "    obs, reward, done, info = vec_env.step(action)\n",
    "    vec_env.render(\"human\")"
   ]
  },
  {
   "cell_type": "code",
   "execution_count": null,
   "metadata": {},
   "outputs": [],
   "source": [
    "import gymnasium as gym\n",
    "import highway_env\n",
    "from highway_env.envs.common.abstract import AbstractEnv\n",
    "from highway_env.envs.parking_env import ParkingEnv\n",
    "from stable_baselines3 import DDPG\n",
    "from stable_baselines3.common.noise import NormalActionNoise, OrnsteinUhlenbeckActionNoise\n",
    "import numpy as np\n",
    "from gym.envs.registration import registry, register\n",
    "\n",
    "class MyEnv(ParkingEnv, AbstractEnv):\n",
    "    def __init__(self):\n",
    "        super().__init__()\n",
    "\n",
    "    def compute_reward(self, achieved_goal: np.ndarray, desired_goal: np.ndarray, info: dict, p: float = 0.5) -> float:\n",
    "        return super().compute_reward(achieved_goal, desired_goal, info, p)\n",
    "    # def step(self, action):\n",
    "    #     return self.env.step(action)\n",
    "\n",
    "    # def reset(self):\n",
    "    #     return self.env.reset()\n",
    "\n",
    "    # def render(self, mode='human'):\n",
    "    #     return self.env.render(mode)\n",
    "\n",
    "module_name = __name__\n",
    "\n",
    "env_name = 'URReacher-v1'\n",
    "if env_name in registry:\n",
    "    del registry[env_name]\n",
    "register(\n",
    "    id=env_name,\n",
    "    entry_point=f'{module_name}:URRobotGym',\n",
    ")"
   ]
  },
  {
   "cell_type": "code",
   "execution_count": null,
   "metadata": {},
   "outputs": [],
   "source": [
    "import gymnasium as gym\n",
    "\n",
    "from stable_baselines3 import PPO\n",
    "from stable_baselines3.common.env_util import make_vec_env\n",
    "\n",
    "# Parallel environments\n",
    "vec_env = make_vec_env(\"parking-v0\", n_envs=4)\n",
    "\n",
    "model = PPO(\"MultiInputPolicy\", vec_env, verbose=1)\n",
    "model.learn(total_timesteps=250000)\n",
    "model.save(\"ppo_parking\")\n",
    "\n",
    "del model # remove to demonstrate saving and loading\n",
    "\n",
    "model = PPO.load(\"ppo_cartpole\")\n",
    "\n",
    "obs = vec_env.reset()\n",
    "while True:\n",
    "    action, _states = model.predict(obs)\n",
    "    obs, rewards, dones, info = vec_env.step(action)\n",
    "    vec_env.render(\"human\")"
   ]
  },
  {
   "cell_type": "code",
   "execution_count": null,
   "metadata": {},
   "outputs": [],
   "source": [
    "env = gym.make(\"parking-v0\", render_mode=\"rgb_array\")\n",
    "\n",
    "model = PPO.load(\"ppo_parking\", env = env, verbose=1)\n",
    "vec_env = model.get_env()\n",
    "model.learn(total_timesteps=250000)\n",
    "model.save(\"ppo_parking\")\n",
    "\n"
   ]
  }
 ],
 "metadata": {
  "kernelspec": {
   "display_name": "6.8200",
   "language": "python",
   "name": "python3"
  },
  "language_info": {
   "codemirror_mode": {
    "name": "ipython",
    "version": 3
   },
   "file_extension": ".py",
   "mimetype": "text/x-python",
   "name": "python",
   "nbconvert_exporter": "python",
   "pygments_lexer": "ipython3",
   "version": "3.10.1"
  }
 },
 "nbformat": 4,
 "nbformat_minor": 2
}
